{
 "cells": [
  {
   "cell_type": "markdown",
   "id": "ef2467a1",
   "metadata": {},
   "source": [
    "### Perplexity, BLEU and ROUGE Evaluation"
   ]
  },
  {
   "cell_type": "code",
   "execution_count": 27,
   "id": "ac9796c4",
   "metadata": {},
   "outputs": [
    {
     "name": "stdout",
     "output_type": "stream",
     "text": [
      "Note: you may need to restart the kernel to use updated packages.\n"
     ]
    }
   ],
   "source": [
    "pip install -q langchain-groq==0.2.0 langchain==0.3.0 langchain-community==0.3.0 datasets==3.0.0 evaluate rouge-score sacrebleu"
   ]
  },
  {
   "cell_type": "code",
   "execution_count": 57,
   "id": "43cf3182",
   "metadata": {},
   "outputs": [],
   "source": [
    "from langchain_groq import ChatGroq\n",
    "from datasets import Dataset, load_dataset\n",
    "import pandas as pd\n",
    "import numpy as np\n",
    "from sacrebleu import corpus_bleu, sentence_bleu\n",
    "from rouge_score import rouge_scorer"
   ]
  },
  {
   "cell_type": "markdown",
   "id": "146efca4",
   "metadata": {},
   "source": [
    "### Using Lllama 3.1 8B"
   ]
  },
  {
   "cell_type": "code",
   "execution_count": 3,
   "id": "381136d9",
   "metadata": {},
   "outputs": [],
   "source": [
    "model_name ='llama-3.1-8b-instant'\n",
    "groq_key ='key'"
   ]
  },
  {
   "cell_type": "code",
   "execution_count": 4,
   "id": "ff52cdb8",
   "metadata": {},
   "outputs": [],
   "source": [
    "llm = ChatGroq(model_name=model_name, groq_api_key=groq_key, temperature=0.5, max_tokens=256)"
   ]
  },
  {
   "cell_type": "code",
   "execution_count": 5,
   "id": "9bfa1c5c",
   "metadata": {},
   "outputs": [
    {
     "data": {
      "text/plain": [
       "AIMessage(content=\"I'm functioning properly. What would you like to talk about or ask?\", additional_kwargs={}, response_metadata={'token_usage': {'completion_tokens': 16, 'prompt_tokens': 39, 'total_tokens': 55, 'completion_time': 0.021333333, 'prompt_time': 0.003464444, 'queue_time': 0.019771504999999998, 'total_time': 0.024797777}, 'model_name': 'llama-3.1-8b-instant', 'system_fingerprint': 'fp_9cb648b966', 'finish_reason': 'stop', 'logprobs': None}, id='run-790c614e-d261-4a69-88e9-7bec0f0a28f6-0', usage_metadata={'input_tokens': 39, 'output_tokens': 16, 'total_tokens': 55})"
      ]
     },
     "execution_count": 5,
     "metadata": {},
     "output_type": "execute_result"
    }
   ],
   "source": [
    "llm.invoke('How are you?')"
   ]
  },
  {
   "cell_type": "markdown",
   "id": "b8c1552a",
   "metadata": {},
   "source": [
    "### Single conversation dataset"
   ]
  },
  {
   "cell_type": "code",
   "execution_count": 10,
   "id": "d62f0c04",
   "metadata": {},
   "outputs": [],
   "source": [
    "dataset = pd.read_csv('dataset.csv')[['User','Response']]"
   ]
  },
  {
   "cell_type": "code",
   "execution_count": 7,
   "id": "66050860",
   "metadata": {},
   "outputs": [],
   "source": [
    "# dataset = Dataset.from_pandas(dataset)"
   ]
  },
  {
   "cell_type": "markdown",
   "id": "9ce64797",
   "metadata": {},
   "source": [
    "#### Perplexity Formula for logprobs if available"
   ]
  },
  {
   "cell_type": "code",
   "execution_count": 8,
   "id": "a1af830a",
   "metadata": {},
   "outputs": [],
   "source": [
    "def compute_perplexity(log_probs):\n",
    "    total_log_prob = 0\n",
    "    for log_prob in log_probs:\n",
    "        total_log_prob += log_prob\n",
    "    perplexity = np.exp(-total_log_prob / len(log_probs))\n",
    "    return perplexity"
   ]
  },
  {
   "cell_type": "markdown",
   "id": "35478e03",
   "metadata": {},
   "source": [
    "### Generate AI Response"
   ]
  },
  {
   "cell_type": "code",
   "execution_count": 11,
   "id": "7eeaaf43",
   "metadata": {},
   "outputs": [],
   "source": [
    "dataset['AIresponse'] = dataset['User'].apply(lambda x: llm.invoke(x).content)"
   ]
  },
  {
   "cell_type": "code",
   "execution_count": 15,
   "id": "25b3e54f",
   "metadata": {},
   "outputs": [],
   "source": [
    "dataset['AIresponse'] = dataset.AIresponse.replace('\\n','',regex=True)"
   ]
  },
  {
   "cell_type": "code",
   "execution_count": 16,
   "id": "3fb4fe9c",
   "metadata": {},
   "outputs": [
    {
     "data": {
      "text/html": [
       "<div>\n",
       "<style scoped>\n",
       "    .dataframe tbody tr th:only-of-type {\n",
       "        vertical-align: middle;\n",
       "    }\n",
       "\n",
       "    .dataframe tbody tr th {\n",
       "        vertical-align: top;\n",
       "    }\n",
       "\n",
       "    .dataframe thead th {\n",
       "        text-align: right;\n",
       "    }\n",
       "</style>\n",
       "<table border=\"1\" class=\"dataframe\">\n",
       "  <thead>\n",
       "    <tr style=\"text-align: right;\">\n",
       "      <th></th>\n",
       "      <th>User</th>\n",
       "      <th>Response</th>\n",
       "      <th>AIresponse</th>\n",
       "    </tr>\n",
       "  </thead>\n",
       "  <tbody>\n",
       "    <tr>\n",
       "      <th>0</th>\n",
       "      <td>Now there are three people A, B and C. I curre...</td>\n",
       "      <td>Based on the given information, A is the talle...</td>\n",
       "      <td>Based on the information given:1. A is taller ...</td>\n",
       "    </tr>\n",
       "    <tr>\n",
       "      <th>1</th>\n",
       "      <td>Mary is Tom's mother, John is Tom's grandfathe...</td>\n",
       "      <td>John is Mary's father-in-law.</td>\n",
       "      <td>To determine John's relationship to Mary, we n...</td>\n",
       "    </tr>\n",
       "    <tr>\n",
       "      <th>2</th>\n",
       "      <td>A coin is heads up. Jesus does not flip the co...</td>\n",
       "      <td>The coin was flipped by Alejandra. So the coin...</td>\n",
       "      <td>Since the coin was initially heads up and Jesu...</td>\n",
       "    </tr>\n",
       "    <tr>\n",
       "      <th>3</th>\n",
       "      <td>There are two boxes. Box 1 is either full or e...</td>\n",
       "      <td>Since Box 1 is full, based on the given condit...</td>\n",
       "      <td>If Box 1 is full, then according to the given ...</td>\n",
       "    </tr>\n",
       "    <tr>\n",
       "      <th>4</th>\n",
       "      <td>I have five apples. I gave two to Emily and th...</td>\n",
       "      <td>You have zero apples now because you gave all ...</td>\n",
       "      <td>You initially had 5 apples. You gave 2 to Emil...</td>\n",
       "    </tr>\n",
       "    <tr>\n",
       "      <th>...</th>\n",
       "      <td>...</td>\n",
       "      <td>...</td>\n",
       "      <td>...</td>\n",
       "    </tr>\n",
       "    <tr>\n",
       "      <th>95</th>\n",
       "      <td>How much does it cost to build an app?</td>\n",
       "      <td>The cost of building an app can vary widely ba...</td>\n",
       "      <td>The cost of building an app can vary widely, d...</td>\n",
       "    </tr>\n",
       "    <tr>\n",
       "      <th>96</th>\n",
       "      <td>What's the best laptop for working from home?</td>\n",
       "      <td>To give you the best recommendation, I need to...</td>\n",
       "      <td>The best laptop for working from home depends ...</td>\n",
       "    </tr>\n",
       "    <tr>\n",
       "      <th>97</th>\n",
       "      <td>Can I upgrade my phone?</td>\n",
       "      <td>I'd be happy to help with that! Could you plea...</td>\n",
       "      <td>To determine if you can upgrade your phone, I'...</td>\n",
       "    </tr>\n",
       "    <tr>\n",
       "      <th>98</th>\n",
       "      <td>How often should I replace my tires?</td>\n",
       "      <td>The frequency at which you should replace your...</td>\n",
       "      <td>The frequency of replacing tires depends on va...</td>\n",
       "    </tr>\n",
       "    <tr>\n",
       "      <th>99</th>\n",
       "      <td>What's the best camera for beginners?</td>\n",
       "      <td>I'd be happy to assist you with that. Are you ...</td>\n",
       "      <td>As a beginner, you'll want a camera that's eas...</td>\n",
       "    </tr>\n",
       "  </tbody>\n",
       "</table>\n",
       "<p>100 rows × 3 columns</p>\n",
       "</div>"
      ],
      "text/plain": [
       "                                                 User  \\\n",
       "0   Now there are three people A, B and C. I curre...   \n",
       "1   Mary is Tom's mother, John is Tom's grandfathe...   \n",
       "2   A coin is heads up. Jesus does not flip the co...   \n",
       "3   There are two boxes. Box 1 is either full or e...   \n",
       "4   I have five apples. I gave two to Emily and th...   \n",
       "..                                                ...   \n",
       "95             How much does it cost to build an app?   \n",
       "96      What's the best laptop for working from home?   \n",
       "97                            Can I upgrade my phone?   \n",
       "98               How often should I replace my tires?   \n",
       "99              What's the best camera for beginners?   \n",
       "\n",
       "                                             Response  \\\n",
       "0   Based on the given information, A is the talle...   \n",
       "1                       John is Mary's father-in-law.   \n",
       "2   The coin was flipped by Alejandra. So the coin...   \n",
       "3   Since Box 1 is full, based on the given condit...   \n",
       "4   You have zero apples now because you gave all ...   \n",
       "..                                                ...   \n",
       "95  The cost of building an app can vary widely ba...   \n",
       "96  To give you the best recommendation, I need to...   \n",
       "97  I'd be happy to help with that! Could you plea...   \n",
       "98  The frequency at which you should replace your...   \n",
       "99  I'd be happy to assist you with that. Are you ...   \n",
       "\n",
       "                                           AIresponse  \n",
       "0   Based on the information given:1. A is taller ...  \n",
       "1   To determine John's relationship to Mary, we n...  \n",
       "2   Since the coin was initially heads up and Jesu...  \n",
       "3   If Box 1 is full, then according to the given ...  \n",
       "4   You initially had 5 apples. You gave 2 to Emil...  \n",
       "..                                                ...  \n",
       "95  The cost of building an app can vary widely, d...  \n",
       "96  The best laptop for working from home depends ...  \n",
       "97  To determine if you can upgrade your phone, I'...  \n",
       "98  The frequency of replacing tires depends on va...  \n",
       "99  As a beginner, you'll want a camera that's eas...  \n",
       "\n",
       "[100 rows x 3 columns]"
      ]
     },
     "execution_count": 16,
     "metadata": {},
     "output_type": "execute_result"
    }
   ],
   "source": [
    "dataset"
   ]
  },
  {
   "cell_type": "markdown",
   "id": "ab2b8fc1",
   "metadata": {},
   "source": [
    "### Utilising sentence bleu and rouge scorer to generate score"
   ]
  },
  {
   "cell_type": "code",
   "execution_count": 59,
   "id": "8c09622f",
   "metadata": {},
   "outputs": [],
   "source": [
    "rouge_metric = rouge_scorer.RougeScorer(['rouge1','rougeL'],use_stemmer=False)"
   ]
  },
  {
   "cell_type": "code",
   "execution_count": 62,
   "id": "453bbdab",
   "metadata": {},
   "outputs": [],
   "source": [
    "dataset['bleu_score'] = dataset.apply(lambda x: sentence_bleu(x['Response'],[x['AIresponse']],lowercase=True).score, axis=1)\n",
    "dataset['rogue1_score_precision'] = dataset.apply(lambda x: rouge_metric.score(x['AIresponse'],x['Response'])['rouge1'][0], axis=1)\n",
    "dataset['rogue1_score_recall'] = dataset.apply(lambda x: rouge_metric.score(x['AIresponse'],x['Response'])['rouge1'][1], axis=1)\n",
    "dataset['rogue1_score_f1'] = dataset.apply(lambda x: rouge_metric.score(x['AIresponse'],x['Response'])['rouge1'][2], axis=1)\n",
    "dataset['rogueL_score_precision'] = dataset.apply(lambda x: rouge_metric.score(x['AIresponse'],x['Response'])['rougeL'][0], axis=1)\n",
    "dataset['rogueL_score_recall'] = dataset.apply(lambda x: rouge_metric.score(x['AIresponse'],x['Response'])['rougeL'][1], axis=1)\n",
    "dataset['rogueL_score_f1'] = dataset.apply(lambda x: rouge_metric.score(x['AIresponse'],x['Response'])['rougeL'][2], axis=1)"
   ]
  },
  {
   "cell_type": "markdown",
   "id": "45529bc7",
   "metadata": {},
   "source": [
    "### Analysing the score"
   ]
  },
  {
   "cell_type": "code",
   "execution_count": 63,
   "id": "e797ad1f",
   "metadata": {},
   "outputs": [
    {
     "data": {
      "text/html": [
       "<div>\n",
       "<style scoped>\n",
       "    .dataframe tbody tr th:only-of-type {\n",
       "        vertical-align: middle;\n",
       "    }\n",
       "\n",
       "    .dataframe tbody tr th {\n",
       "        vertical-align: top;\n",
       "    }\n",
       "\n",
       "    .dataframe thead th {\n",
       "        text-align: right;\n",
       "    }\n",
       "</style>\n",
       "<table border=\"1\" class=\"dataframe\">\n",
       "  <thead>\n",
       "    <tr style=\"text-align: right;\">\n",
       "      <th></th>\n",
       "      <th>User</th>\n",
       "      <th>Response</th>\n",
       "      <th>AIresponse</th>\n",
       "      <th>bleu_score</th>\n",
       "      <th>rogue1_score_precision</th>\n",
       "      <th>rogue1_score_recall</th>\n",
       "      <th>rogue1_score_f1</th>\n",
       "      <th>rogueL_score_precision</th>\n",
       "      <th>rogueL_score_recall</th>\n",
       "      <th>rogueL_score_f1</th>\n",
       "    </tr>\n",
       "  </thead>\n",
       "  <tbody>\n",
       "    <tr>\n",
       "      <th>0</th>\n",
       "      <td>Now there are three people A, B and C. I curre...</td>\n",
       "      <td>Based on the given information, A is the talle...</td>\n",
       "      <td>Based on the information given:1. A is taller ...</td>\n",
       "      <td>3.736687</td>\n",
       "      <td>1.000000</td>\n",
       "      <td>0.265306</td>\n",
       "      <td>0.419355</td>\n",
       "      <td>0.923077</td>\n",
       "      <td>0.244898</td>\n",
       "      <td>0.387097</td>\n",
       "    </tr>\n",
       "    <tr>\n",
       "      <th>1</th>\n",
       "      <td>Mary is Tom's mother, John is Tom's grandfathe...</td>\n",
       "      <td>John is Mary's father-in-law.</td>\n",
       "      <td>To determine John's relationship to Mary, we n...</td>\n",
       "      <td>0.004317</td>\n",
       "      <td>0.714286</td>\n",
       "      <td>0.106383</td>\n",
       "      <td>0.185185</td>\n",
       "      <td>0.714286</td>\n",
       "      <td>0.106383</td>\n",
       "      <td>0.185185</td>\n",
       "    </tr>\n",
       "    <tr>\n",
       "      <th>2</th>\n",
       "      <td>A coin is heads up. Jesus does not flip the co...</td>\n",
       "      <td>The coin was flipped by Alejandra. So the coin...</td>\n",
       "      <td>Since the coin was initially heads up and Jesu...</td>\n",
       "      <td>7.863696</td>\n",
       "      <td>0.500000</td>\n",
       "      <td>0.416667</td>\n",
       "      <td>0.454545</td>\n",
       "      <td>0.350000</td>\n",
       "      <td>0.291667</td>\n",
       "      <td>0.318182</td>\n",
       "    </tr>\n",
       "    <tr>\n",
       "      <th>3</th>\n",
       "      <td>There are two boxes. Box 1 is either full or e...</td>\n",
       "      <td>Since Box 1 is full, based on the given condit...</td>\n",
       "      <td>If Box 1 is full, then according to the given ...</td>\n",
       "      <td>29.263947</td>\n",
       "      <td>0.419355</td>\n",
       "      <td>0.812500</td>\n",
       "      <td>0.553191</td>\n",
       "      <td>0.387097</td>\n",
       "      <td>0.750000</td>\n",
       "      <td>0.510638</td>\n",
       "    </tr>\n",
       "    <tr>\n",
       "      <th>4</th>\n",
       "      <td>I have five apples. I gave two to Emily and th...</td>\n",
       "      <td>You have zero apples now because you gave all ...</td>\n",
       "      <td>You initially had 5 apples. You gave 2 to Emil...</td>\n",
       "      <td>0.522844</td>\n",
       "      <td>0.611111</td>\n",
       "      <td>0.164179</td>\n",
       "      <td>0.258824</td>\n",
       "      <td>0.555556</td>\n",
       "      <td>0.149254</td>\n",
       "      <td>0.235294</td>\n",
       "    </tr>\n",
       "    <tr>\n",
       "      <th>...</th>\n",
       "      <td>...</td>\n",
       "      <td>...</td>\n",
       "      <td>...</td>\n",
       "      <td>...</td>\n",
       "      <td>...</td>\n",
       "      <td>...</td>\n",
       "      <td>...</td>\n",
       "      <td>...</td>\n",
       "      <td>...</td>\n",
       "      <td>...</td>\n",
       "    </tr>\n",
       "    <tr>\n",
       "      <th>95</th>\n",
       "      <td>How much does it cost to build an app?</td>\n",
       "      <td>The cost of building an app can vary widely ba...</td>\n",
       "      <td>The cost of building an app can vary widely, d...</td>\n",
       "      <td>0.208148</td>\n",
       "      <td>0.595238</td>\n",
       "      <td>0.161290</td>\n",
       "      <td>0.253807</td>\n",
       "      <td>0.500000</td>\n",
       "      <td>0.135484</td>\n",
       "      <td>0.213198</td>\n",
       "    </tr>\n",
       "    <tr>\n",
       "      <th>96</th>\n",
       "      <td>What's the best laptop for working from home?</td>\n",
       "      <td>To give you the best recommendation, I need to...</td>\n",
       "      <td>The best laptop for working from home depends ...</td>\n",
       "      <td>0.024849</td>\n",
       "      <td>0.342105</td>\n",
       "      <td>0.075581</td>\n",
       "      <td>0.123810</td>\n",
       "      <td>0.236842</td>\n",
       "      <td>0.052326</td>\n",
       "      <td>0.085714</td>\n",
       "    </tr>\n",
       "    <tr>\n",
       "      <th>97</th>\n",
       "      <td>Can I upgrade my phone?</td>\n",
       "      <td>I'd be happy to help with that! Could you plea...</td>\n",
       "      <td>To determine if you can upgrade your phone, I'...</td>\n",
       "      <td>0.097954</td>\n",
       "      <td>0.516129</td>\n",
       "      <td>0.132231</td>\n",
       "      <td>0.210526</td>\n",
       "      <td>0.322581</td>\n",
       "      <td>0.082645</td>\n",
       "      <td>0.131579</td>\n",
       "    </tr>\n",
       "    <tr>\n",
       "      <th>98</th>\n",
       "      <td>How often should I replace my tires?</td>\n",
       "      <td>The frequency at which you should replace your...</td>\n",
       "      <td>The frequency of replacing tires depends on va...</td>\n",
       "      <td>0.110838</td>\n",
       "      <td>0.523810</td>\n",
       "      <td>0.113990</td>\n",
       "      <td>0.187234</td>\n",
       "      <td>0.285714</td>\n",
       "      <td>0.062176</td>\n",
       "      <td>0.102128</td>\n",
       "    </tr>\n",
       "    <tr>\n",
       "      <th>99</th>\n",
       "      <td>What's the best camera for beginners?</td>\n",
       "      <td>I'd be happy to assist you with that. Are you ...</td>\n",
       "      <td>As a beginner, you'll want a camera that's eas...</td>\n",
       "      <td>0.000972</td>\n",
       "      <td>0.565217</td>\n",
       "      <td>0.072626</td>\n",
       "      <td>0.128713</td>\n",
       "      <td>0.391304</td>\n",
       "      <td>0.050279</td>\n",
       "      <td>0.089109</td>\n",
       "    </tr>\n",
       "  </tbody>\n",
       "</table>\n",
       "<p>100 rows × 10 columns</p>\n",
       "</div>"
      ],
      "text/plain": [
       "                                                 User  \\\n",
       "0   Now there are three people A, B and C. I curre...   \n",
       "1   Mary is Tom's mother, John is Tom's grandfathe...   \n",
       "2   A coin is heads up. Jesus does not flip the co...   \n",
       "3   There are two boxes. Box 1 is either full or e...   \n",
       "4   I have five apples. I gave two to Emily and th...   \n",
       "..                                                ...   \n",
       "95             How much does it cost to build an app?   \n",
       "96      What's the best laptop for working from home?   \n",
       "97                            Can I upgrade my phone?   \n",
       "98               How often should I replace my tires?   \n",
       "99              What's the best camera for beginners?   \n",
       "\n",
       "                                             Response  \\\n",
       "0   Based on the given information, A is the talle...   \n",
       "1                       John is Mary's father-in-law.   \n",
       "2   The coin was flipped by Alejandra. So the coin...   \n",
       "3   Since Box 1 is full, based on the given condit...   \n",
       "4   You have zero apples now because you gave all ...   \n",
       "..                                                ...   \n",
       "95  The cost of building an app can vary widely ba...   \n",
       "96  To give you the best recommendation, I need to...   \n",
       "97  I'd be happy to help with that! Could you plea...   \n",
       "98  The frequency at which you should replace your...   \n",
       "99  I'd be happy to assist you with that. Are you ...   \n",
       "\n",
       "                                           AIresponse  bleu_score  \\\n",
       "0   Based on the information given:1. A is taller ...    3.736687   \n",
       "1   To determine John's relationship to Mary, we n...    0.004317   \n",
       "2   Since the coin was initially heads up and Jesu...    7.863696   \n",
       "3   If Box 1 is full, then according to the given ...   29.263947   \n",
       "4   You initially had 5 apples. You gave 2 to Emil...    0.522844   \n",
       "..                                                ...         ...   \n",
       "95  The cost of building an app can vary widely, d...    0.208148   \n",
       "96  The best laptop for working from home depends ...    0.024849   \n",
       "97  To determine if you can upgrade your phone, I'...    0.097954   \n",
       "98  The frequency of replacing tires depends on va...    0.110838   \n",
       "99  As a beginner, you'll want a camera that's eas...    0.000972   \n",
       "\n",
       "    rogue1_score_precision  rogue1_score_recall  rogue1_score_f1  \\\n",
       "0                 1.000000             0.265306         0.419355   \n",
       "1                 0.714286             0.106383         0.185185   \n",
       "2                 0.500000             0.416667         0.454545   \n",
       "3                 0.419355             0.812500         0.553191   \n",
       "4                 0.611111             0.164179         0.258824   \n",
       "..                     ...                  ...              ...   \n",
       "95                0.595238             0.161290         0.253807   \n",
       "96                0.342105             0.075581         0.123810   \n",
       "97                0.516129             0.132231         0.210526   \n",
       "98                0.523810             0.113990         0.187234   \n",
       "99                0.565217             0.072626         0.128713   \n",
       "\n",
       "    rogueL_score_precision  rogueL_score_recall  rogueL_score_f1  \n",
       "0                 0.923077             0.244898         0.387097  \n",
       "1                 0.714286             0.106383         0.185185  \n",
       "2                 0.350000             0.291667         0.318182  \n",
       "3                 0.387097             0.750000         0.510638  \n",
       "4                 0.555556             0.149254         0.235294  \n",
       "..                     ...                  ...              ...  \n",
       "95                0.500000             0.135484         0.213198  \n",
       "96                0.236842             0.052326         0.085714  \n",
       "97                0.322581             0.082645         0.131579  \n",
       "98                0.285714             0.062176         0.102128  \n",
       "99                0.391304             0.050279         0.089109  \n",
       "\n",
       "[100 rows x 10 columns]"
      ]
     },
     "execution_count": 63,
     "metadata": {},
     "output_type": "execute_result"
    }
   ],
   "source": [
    "dataset"
   ]
  },
  {
   "cell_type": "code",
   "execution_count": null,
   "id": "8223e125",
   "metadata": {},
   "outputs": [],
   "source": []
  }
 ],
 "metadata": {
  "kernelspec": {
   "display_name": "conda_pytorch_p310",
   "language": "python",
   "name": "conda_pytorch_p310"
  },
  "language_info": {
   "codemirror_mode": {
    "name": "ipython",
    "version": 3
   },
   "file_extension": ".py",
   "mimetype": "text/x-python",
   "name": "python",
   "nbconvert_exporter": "python",
   "pygments_lexer": "ipython3",
   "version": "3.10.14"
  }
 },
 "nbformat": 4,
 "nbformat_minor": 5
}
